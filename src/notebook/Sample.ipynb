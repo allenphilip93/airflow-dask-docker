{
 "cells": [
  {
   "cell_type": "code",
   "execution_count": 1,
   "id": "dress-authentication",
   "metadata": {},
   "outputs": [],
   "source": [
    "from dask.distributed import Client"
   ]
  },
  {
   "cell_type": "code",
   "execution_count": 2,
   "id": "informed-treatment",
   "metadata": {},
   "outputs": [
    {
     "name": "stderr",
     "output_type": "stream",
     "text": [
      "/venv/lib/python3.8/site-packages/distributed/client.py:1135: VersionMismatchWarning: Mismatched versions found\n",
      "\n",
      "+---------+---------------+------------------------+------------------------+\n",
      "| Package | client        | scheduler              | workers                |\n",
      "+---------+---------------+------------------------+------------------------+\n",
      "| blosc   | None          | 1.9.2                  | 1.9.2                  |\n",
      "| dask    | 2021.02.0     | 2021.02.0+13.ga4d07ed2 | 2021.02.0+13.ga4d07ed2 |\n",
      "| lz4     | None          | 3.1.1                  | 3.1.1                  |\n",
      "| msgpack | 1.0.2         | 1.0.0                  | 1.0.0                  |\n",
      "| numpy   | 1.20.1        | 1.18.1                 | 1.18.1                 |\n",
      "| python  | 3.8.7.final.0 | 3.8.0.final.0          | 3.8.0.final.0          |\n",
      "+---------+---------------+------------------------+------------------------+\n",
      "Notes: \n",
      "-  msgpack: Variation is ok, as long as everything is above 0.6\n",
      "  warnings.warn(version_module.VersionMismatchWarning(msg[0][\"warning\"]))\n"
     ]
    },
    {
     "data": {
      "text/plain": [
       "{'tcp://172.20.0.2:38781': 8}"
      ]
     },
     "execution_count": 2,
     "metadata": {},
     "output_type": "execute_result"
    }
   ],
   "source": [
    "client = Client('scheduler:8786')\n",
    "client.ncores()"
   ]
  },
  {
   "cell_type": "code",
   "execution_count": null,
   "id": "crude-jurisdiction",
   "metadata": {},
   "outputs": [],
   "source": []
  }
 ],
 "metadata": {
  "kernelspec": {
   "display_name": "Python 3",
   "language": "python",
   "name": "python3"
  },
  "language_info": {
   "codemirror_mode": {
    "name": "ipython",
    "version": 3
   },
   "file_extension": ".py",
   "mimetype": "text/x-python",
   "name": "python",
   "nbconvert_exporter": "python",
   "pygments_lexer": "ipython3",
   "version": "3.8.7"
  }
 },
 "nbformat": 4,
 "nbformat_minor": 5
}
